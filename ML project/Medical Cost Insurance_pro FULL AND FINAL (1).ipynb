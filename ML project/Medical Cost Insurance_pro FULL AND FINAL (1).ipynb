{
 "cells": [
  {
   "cell_type": "markdown",
   "id": "410a1808",
   "metadata": {},
   "source": [
    "# Medical Cost Insurance Prediction\n",
    "\n",
    "\n",
    "#### Soumydip Shil 1906285\n",
    "#### Abhigyan Sinha 1906602\n",
    "#### Syed Asif Akhtar 1906663\n",
    "#### Anuj 1906668"
   ]
  },
  {
   "cell_type": "markdown",
   "id": "cb95954b",
   "metadata": {},
   "source": [
    " ###    Importing related Libraries "
   ]
  },
  {
   "cell_type": "code",
   "execution_count": 1,
   "id": "35bb70c2",
   "metadata": {},
   "outputs": [],
   "source": [
    "import numpy as np\n",
    "import pandas as pd\n",
    "import matplotlib.pyplot as plt\n",
    "import seaborn as sns\n",
    "\n",
    "%matplotlib inline\n",
    "import warnings\n",
    "warnings.filterwarnings('ignore')"
   ]
  },
  {
   "cell_type": "markdown",
   "id": "3baa735e",
   "metadata": {},
   "source": [
    "### Store the dataset into the Dataframe"
   ]
  },
  {
   "cell_type": "code",
   "execution_count": 2,
   "id": "647d066b",
   "metadata": {},
   "outputs": [
    {
     "data": {
      "text/html": [
       "<div>\n",
       "<style scoped>\n",
       "    .dataframe tbody tr th:only-of-type {\n",
       "        vertical-align: middle;\n",
       "    }\n",
       "\n",
       "    .dataframe tbody tr th {\n",
       "        vertical-align: top;\n",
       "    }\n",
       "\n",
       "    .dataframe thead th {\n",
       "        text-align: right;\n",
       "    }\n",
       "</style>\n",
       "<table border=\"1\" class=\"dataframe\">\n",
       "  <thead>\n",
       "    <tr style=\"text-align: right;\">\n",
       "      <th></th>\n",
       "      <th>age</th>\n",
       "      <th>sex</th>\n",
       "      <th>bmi</th>\n",
       "      <th>steps</th>\n",
       "      <th>children</th>\n",
       "      <th>smoker</th>\n",
       "      <th>region</th>\n",
       "      <th>charges</th>\n",
       "      <th>blood pressure</th>\n",
       "      <th>diabetes</th>\n",
       "      <th>HistoryOfCancer</th>\n",
       "      <th>MajorSurgeries</th>\n",
       "    </tr>\n",
       "  </thead>\n",
       "  <tbody>\n",
       "    <tr>\n",
       "      <th>0</th>\n",
       "      <td>19</td>\n",
       "      <td>female</td>\n",
       "      <td>27.900</td>\n",
       "      <td>3009</td>\n",
       "      <td>0</td>\n",
       "      <td>yes</td>\n",
       "      <td>South West</td>\n",
       "      <td>16884.92400</td>\n",
       "      <td>no</td>\n",
       "      <td>no</td>\n",
       "      <td>no</td>\n",
       "      <td>0</td>\n",
       "    </tr>\n",
       "    <tr>\n",
       "      <th>1</th>\n",
       "      <td>18</td>\n",
       "      <td>male</td>\n",
       "      <td>33.770</td>\n",
       "      <td>3008</td>\n",
       "      <td>1</td>\n",
       "      <td>no</td>\n",
       "      <td>South East</td>\n",
       "      <td>1725.55230</td>\n",
       "      <td>no</td>\n",
       "      <td>no</td>\n",
       "      <td>no</td>\n",
       "      <td>0</td>\n",
       "    </tr>\n",
       "    <tr>\n",
       "      <th>2</th>\n",
       "      <td>28</td>\n",
       "      <td>male</td>\n",
       "      <td>33.000</td>\n",
       "      <td>3009</td>\n",
       "      <td>3</td>\n",
       "      <td>no</td>\n",
       "      <td>South East</td>\n",
       "      <td>4449.46200</td>\n",
       "      <td>yes</td>\n",
       "      <td>yes</td>\n",
       "      <td>no</td>\n",
       "      <td>1</td>\n",
       "    </tr>\n",
       "    <tr>\n",
       "      <th>3</th>\n",
       "      <td>33</td>\n",
       "      <td>male</td>\n",
       "      <td>22.705</td>\n",
       "      <td>10009</td>\n",
       "      <td>0</td>\n",
       "      <td>no</td>\n",
       "      <td>North West</td>\n",
       "      <td>21984.47061</td>\n",
       "      <td>yes</td>\n",
       "      <td>yes</td>\n",
       "      <td>no</td>\n",
       "      <td>2</td>\n",
       "    </tr>\n",
       "    <tr>\n",
       "      <th>4</th>\n",
       "      <td>32</td>\n",
       "      <td>male</td>\n",
       "      <td>28.880</td>\n",
       "      <td>8010</td>\n",
       "      <td>0</td>\n",
       "      <td>no</td>\n",
       "      <td>North West</td>\n",
       "      <td>3866.85520</td>\n",
       "      <td>no</td>\n",
       "      <td>yes</td>\n",
       "      <td>no</td>\n",
       "      <td>1</td>\n",
       "    </tr>\n",
       "    <tr>\n",
       "      <th>5</th>\n",
       "      <td>31</td>\n",
       "      <td>female</td>\n",
       "      <td>25.740</td>\n",
       "      <td>8005</td>\n",
       "      <td>0</td>\n",
       "      <td>no</td>\n",
       "      <td>South East</td>\n",
       "      <td>3756.62160</td>\n",
       "      <td>no</td>\n",
       "      <td>no</td>\n",
       "      <td>no</td>\n",
       "      <td>1</td>\n",
       "    </tr>\n",
       "    <tr>\n",
       "      <th>6</th>\n",
       "      <td>46</td>\n",
       "      <td>female</td>\n",
       "      <td>33.440</td>\n",
       "      <td>3002</td>\n",
       "      <td>1</td>\n",
       "      <td>no</td>\n",
       "      <td>South East</td>\n",
       "      <td>8240.58960</td>\n",
       "      <td>no</td>\n",
       "      <td>no</td>\n",
       "      <td>no</td>\n",
       "      <td>0</td>\n",
       "    </tr>\n",
       "    <tr>\n",
       "      <th>7</th>\n",
       "      <td>37</td>\n",
       "      <td>female</td>\n",
       "      <td>27.740</td>\n",
       "      <td>8007</td>\n",
       "      <td>3</td>\n",
       "      <td>no</td>\n",
       "      <td>North West</td>\n",
       "      <td>7281.50560</td>\n",
       "      <td>no</td>\n",
       "      <td>no</td>\n",
       "      <td>no</td>\n",
       "      <td>0</td>\n",
       "    </tr>\n",
       "    <tr>\n",
       "      <th>8</th>\n",
       "      <td>37</td>\n",
       "      <td>male</td>\n",
       "      <td>29.830</td>\n",
       "      <td>8002</td>\n",
       "      <td>2</td>\n",
       "      <td>no</td>\n",
       "      <td>North East</td>\n",
       "      <td>6406.41070</td>\n",
       "      <td>no</td>\n",
       "      <td>no</td>\n",
       "      <td>no</td>\n",
       "      <td>0</td>\n",
       "    </tr>\n",
       "    <tr>\n",
       "      <th>9</th>\n",
       "      <td>60</td>\n",
       "      <td>female</td>\n",
       "      <td>25.840</td>\n",
       "      <td>5008</td>\n",
       "      <td>0</td>\n",
       "      <td>no</td>\n",
       "      <td>North West</td>\n",
       "      <td>28923.13692</td>\n",
       "      <td>no</td>\n",
       "      <td>yes</td>\n",
       "      <td>no</td>\n",
       "      <td>0</td>\n",
       "    </tr>\n",
       "  </tbody>\n",
       "</table>\n",
       "</div>"
      ],
      "text/plain": [
       "   age     sex     bmi  steps  children smoker      region      charges  \\\n",
       "0   19  female  27.900   3009         0    yes  South West  16884.92400   \n",
       "1   18    male  33.770   3008         1     no  South East   1725.55230   \n",
       "2   28    male  33.000   3009         3     no  South East   4449.46200   \n",
       "3   33    male  22.705  10009         0     no  North West  21984.47061   \n",
       "4   32    male  28.880   8010         0     no  North West   3866.85520   \n",
       "5   31  female  25.740   8005         0     no  South East   3756.62160   \n",
       "6   46  female  33.440   3002         1     no  South East   8240.58960   \n",
       "7   37  female  27.740   8007         3     no  North West   7281.50560   \n",
       "8   37    male  29.830   8002         2     no  North East   6406.41070   \n",
       "9   60  female  25.840   5008         0     no  North West  28923.13692   \n",
       "\n",
       "  blood pressure diabetes HistoryOfCancer  MajorSurgeries  \n",
       "0             no       no              no               0  \n",
       "1             no       no              no               0  \n",
       "2            yes      yes              no               1  \n",
       "3            yes      yes              no               2  \n",
       "4             no      yes              no               1  \n",
       "5             no       no              no               1  \n",
       "6             no       no              no               0  \n",
       "7             no       no              no               0  \n",
       "8             no       no              no               0  \n",
       "9             no      yes              no               0  "
      ]
     },
     "execution_count": 2,
     "metadata": {},
     "output_type": "execute_result"
    }
   ],
   "source": [
    "df = pd.read_csv('./insurance_steps - Copylast.csv')\n",
    "df.head(10)"
   ]
  },
  {
   "cell_type": "markdown",
   "id": "aadb5f2c",
   "metadata": {},
   "source": [
    "### Check the shape of the dataframe"
   ]
  },
  {
   "cell_type": "code",
   "execution_count": 3,
   "id": "1f7f1532",
   "metadata": {},
   "outputs": [
    {
     "data": {
      "text/plain": [
       "(1338, 12)"
      ]
     },
     "execution_count": 3,
     "metadata": {},
     "output_type": "execute_result"
    }
   ],
   "source": [
    "df.shape"
   ]
  },
  {
   "cell_type": "markdown",
   "id": "96c926dc",
   "metadata": {},
   "source": [
    "###  Check the Detail information of the dataframe\n"
   ]
  },
  {
   "cell_type": "code",
   "execution_count": 4,
   "id": "e7bebfd9",
   "metadata": {},
   "outputs": [
    {
     "data": {
      "text/plain": [
       "(1338, 12)"
      ]
     },
     "execution_count": 4,
     "metadata": {},
     "output_type": "execute_result"
    }
   ],
   "source": [
    "df.shape"
   ]
  },
  {
   "cell_type": "code",
   "execution_count": 5,
   "id": "e0acb281",
   "metadata": {},
   "outputs": [
    {
     "name": "stdout",
     "output_type": "stream",
     "text": [
      "Index(['age', 'sex', 'bmi', 'steps', 'children', 'smoker', 'region', 'charges',\n",
      "       'blood pressure', 'diabetes', 'HistoryOfCancer', 'MajorSurgeries'],\n",
      "      dtype='object')\n"
     ]
    }
   ],
   "source": [
    " print (df.columns)"
   ]
  },
  {
   "cell_type": "code",
   "execution_count": 6,
   "id": "d3269399",
   "metadata": {
    "scrolled": true
   },
   "outputs": [
    {
     "data": {
      "text/html": [
       "<div>\n",
       "<style scoped>\n",
       "    .dataframe tbody tr th:only-of-type {\n",
       "        vertical-align: middle;\n",
       "    }\n",
       "\n",
       "    .dataframe tbody tr th {\n",
       "        vertical-align: top;\n",
       "    }\n",
       "\n",
       "    .dataframe thead th {\n",
       "        text-align: right;\n",
       "    }\n",
       "</style>\n",
       "<table border=\"1\" class=\"dataframe\">\n",
       "  <thead>\n",
       "    <tr style=\"text-align: right;\">\n",
       "      <th></th>\n",
       "      <th>age</th>\n",
       "      <th>bmi</th>\n",
       "      <th>steps</th>\n",
       "      <th>children</th>\n",
       "      <th>charges</th>\n",
       "      <th>MajorSurgeries</th>\n",
       "    </tr>\n",
       "  </thead>\n",
       "  <tbody>\n",
       "    <tr>\n",
       "      <th>count</th>\n",
       "      <td>1338.000000</td>\n",
       "      <td>1338.000000</td>\n",
       "      <td>1338.000000</td>\n",
       "      <td>1338.000000</td>\n",
       "      <td>1338.000000</td>\n",
       "      <td>1338.000000</td>\n",
       "    </tr>\n",
       "    <tr>\n",
       "      <th>mean</th>\n",
       "      <td>39.207025</td>\n",
       "      <td>30.663397</td>\n",
       "      <td>5328.623318</td>\n",
       "      <td>1.094918</td>\n",
       "      <td>13270.422265</td>\n",
       "      <td>0.677130</td>\n",
       "    </tr>\n",
       "    <tr>\n",
       "      <th>std</th>\n",
       "      <td>14.049960</td>\n",
       "      <td>6.098187</td>\n",
       "      <td>2453.643236</td>\n",
       "      <td>1.205493</td>\n",
       "      <td>12110.011237</td>\n",
       "      <td>0.753213</td>\n",
       "    </tr>\n",
       "    <tr>\n",
       "      <th>min</th>\n",
       "      <td>18.000000</td>\n",
       "      <td>15.960000</td>\n",
       "      <td>3000.000000</td>\n",
       "      <td>0.000000</td>\n",
       "      <td>1121.873900</td>\n",
       "      <td>0.000000</td>\n",
       "    </tr>\n",
       "    <tr>\n",
       "      <th>25%</th>\n",
       "      <td>27.000000</td>\n",
       "      <td>26.296250</td>\n",
       "      <td>3008.000000</td>\n",
       "      <td>0.000000</td>\n",
       "      <td>4740.287150</td>\n",
       "      <td>0.000000</td>\n",
       "    </tr>\n",
       "    <tr>\n",
       "      <th>50%</th>\n",
       "      <td>39.000000</td>\n",
       "      <td>30.400000</td>\n",
       "      <td>4007.000000</td>\n",
       "      <td>1.000000</td>\n",
       "      <td>9382.033000</td>\n",
       "      <td>1.000000</td>\n",
       "    </tr>\n",
       "    <tr>\n",
       "      <th>75%</th>\n",
       "      <td>51.000000</td>\n",
       "      <td>34.693750</td>\n",
       "      <td>8004.000000</td>\n",
       "      <td>2.000000</td>\n",
       "      <td>16639.912515</td>\n",
       "      <td>1.000000</td>\n",
       "    </tr>\n",
       "    <tr>\n",
       "      <th>max</th>\n",
       "      <td>64.000000</td>\n",
       "      <td>53.130000</td>\n",
       "      <td>10010.000000</td>\n",
       "      <td>5.000000</td>\n",
       "      <td>63770.428010</td>\n",
       "      <td>3.000000</td>\n",
       "    </tr>\n",
       "  </tbody>\n",
       "</table>\n",
       "</div>"
      ],
      "text/plain": [
       "               age          bmi         steps     children       charges  \\\n",
       "count  1338.000000  1338.000000   1338.000000  1338.000000   1338.000000   \n",
       "mean     39.207025    30.663397   5328.623318     1.094918  13270.422265   \n",
       "std      14.049960     6.098187   2453.643236     1.205493  12110.011237   \n",
       "min      18.000000    15.960000   3000.000000     0.000000   1121.873900   \n",
       "25%      27.000000    26.296250   3008.000000     0.000000   4740.287150   \n",
       "50%      39.000000    30.400000   4007.000000     1.000000   9382.033000   \n",
       "75%      51.000000    34.693750   8004.000000     2.000000  16639.912515   \n",
       "max      64.000000    53.130000  10010.000000     5.000000  63770.428010   \n",
       "\n",
       "       MajorSurgeries  \n",
       "count     1338.000000  \n",
       "mean         0.677130  \n",
       "std          0.753213  \n",
       "min          0.000000  \n",
       "25%          0.000000  \n",
       "50%          1.000000  \n",
       "75%          1.000000  \n",
       "max          3.000000  "
      ]
     },
     "execution_count": 6,
     "metadata": {},
     "output_type": "execute_result"
    }
   ],
   "source": [
    "df.describe()"
   ]
  },
  {
   "cell_type": "code",
   "execution_count": 7,
   "id": "0e5f7c92",
   "metadata": {},
   "outputs": [
    {
     "data": {
      "text/plain": [
       "age                  int64\n",
       "sex                 object\n",
       "bmi                float64\n",
       "steps                int64\n",
       "children             int64\n",
       "smoker              object\n",
       "region              object\n",
       "charges            float64\n",
       "blood pressure      object\n",
       "diabetes            object\n",
       "HistoryOfCancer     object\n",
       "MajorSurgeries       int64\n",
       "dtype: object"
      ]
     },
     "execution_count": 7,
     "metadata": {},
     "output_type": "execute_result"
    }
   ],
   "source": [
    "df.dtypes"
   ]
  },
  {
   "cell_type": "markdown",
   "id": "a1c40f6f",
   "metadata": {},
   "source": [
    "# Data Cleaning"
   ]
  },
  {
   "cell_type": "markdown",
   "id": "885bd1ae",
   "metadata": {},
   "source": [
    "###  Display the Null values percentage against every columns (compare to the total number of records)"
   ]
  },
  {
   "cell_type": "code",
   "execution_count": 8,
   "id": "290c305f",
   "metadata": {
    "scrolled": true
   },
   "outputs": [
    {
     "data": {
      "text/html": [
       "<div>\n",
       "<style scoped>\n",
       "    .dataframe tbody tr th:only-of-type {\n",
       "        vertical-align: middle;\n",
       "    }\n",
       "\n",
       "    .dataframe tbody tr th {\n",
       "        vertical-align: top;\n",
       "    }\n",
       "\n",
       "    .dataframe thead th {\n",
       "        text-align: right;\n",
       "    }\n",
       "</style>\n",
       "<table border=\"1\" class=\"dataframe\">\n",
       "  <thead>\n",
       "    <tr style=\"text-align: right;\">\n",
       "      <th></th>\n",
       "      <th>age</th>\n",
       "      <th>sex</th>\n",
       "      <th>bmi</th>\n",
       "      <th>steps</th>\n",
       "      <th>children</th>\n",
       "      <th>smoker</th>\n",
       "      <th>region</th>\n",
       "      <th>charges</th>\n",
       "      <th>blood pressure</th>\n",
       "      <th>diabetes</th>\n",
       "      <th>HistoryOfCancer</th>\n",
       "      <th>MajorSurgeries</th>\n",
       "    </tr>\n",
       "  </thead>\n",
       "  <tbody>\n",
       "    <tr>\n",
       "      <th>0</th>\n",
       "      <td>19</td>\n",
       "      <td>female</td>\n",
       "      <td>27.900</td>\n",
       "      <td>3009</td>\n",
       "      <td>0</td>\n",
       "      <td>yes</td>\n",
       "      <td>South West</td>\n",
       "      <td>16884.92400</td>\n",
       "      <td>no</td>\n",
       "      <td>no</td>\n",
       "      <td>no</td>\n",
       "      <td>0</td>\n",
       "    </tr>\n",
       "    <tr>\n",
       "      <th>1</th>\n",
       "      <td>18</td>\n",
       "      <td>male</td>\n",
       "      <td>33.770</td>\n",
       "      <td>3008</td>\n",
       "      <td>1</td>\n",
       "      <td>no</td>\n",
       "      <td>South East</td>\n",
       "      <td>1725.55230</td>\n",
       "      <td>no</td>\n",
       "      <td>no</td>\n",
       "      <td>no</td>\n",
       "      <td>0</td>\n",
       "    </tr>\n",
       "    <tr>\n",
       "      <th>2</th>\n",
       "      <td>28</td>\n",
       "      <td>male</td>\n",
       "      <td>33.000</td>\n",
       "      <td>3009</td>\n",
       "      <td>3</td>\n",
       "      <td>no</td>\n",
       "      <td>South East</td>\n",
       "      <td>4449.46200</td>\n",
       "      <td>yes</td>\n",
       "      <td>yes</td>\n",
       "      <td>no</td>\n",
       "      <td>1</td>\n",
       "    </tr>\n",
       "    <tr>\n",
       "      <th>3</th>\n",
       "      <td>33</td>\n",
       "      <td>male</td>\n",
       "      <td>22.705</td>\n",
       "      <td>10009</td>\n",
       "      <td>0</td>\n",
       "      <td>no</td>\n",
       "      <td>North West</td>\n",
       "      <td>21984.47061</td>\n",
       "      <td>yes</td>\n",
       "      <td>yes</td>\n",
       "      <td>no</td>\n",
       "      <td>2</td>\n",
       "    </tr>\n",
       "    <tr>\n",
       "      <th>4</th>\n",
       "      <td>32</td>\n",
       "      <td>male</td>\n",
       "      <td>28.880</td>\n",
       "      <td>8010</td>\n",
       "      <td>0</td>\n",
       "      <td>no</td>\n",
       "      <td>North West</td>\n",
       "      <td>3866.85520</td>\n",
       "      <td>no</td>\n",
       "      <td>yes</td>\n",
       "      <td>no</td>\n",
       "      <td>1</td>\n",
       "    </tr>\n",
       "  </tbody>\n",
       "</table>\n",
       "</div>"
      ],
      "text/plain": [
       "   age     sex     bmi  steps  children smoker      region      charges  \\\n",
       "0   19  female  27.900   3009         0    yes  South West  16884.92400   \n",
       "1   18    male  33.770   3008         1     no  South East   1725.55230   \n",
       "2   28    male  33.000   3009         3     no  South East   4449.46200   \n",
       "3   33    male  22.705  10009         0     no  North West  21984.47061   \n",
       "4   32    male  28.880   8010         0     no  North West   3866.85520   \n",
       "\n",
       "  blood pressure diabetes HistoryOfCancer  MajorSurgeries  \n",
       "0             no       no              no               0  \n",
       "1             no       no              no               0  \n",
       "2            yes      yes              no               1  \n",
       "3            yes      yes              no               2  \n",
       "4             no      yes              no               1  "
      ]
     },
     "execution_count": 8,
     "metadata": {},
     "output_type": "execute_result"
    }
   ],
   "source": [
    "df.head(5)"
   ]
  },
  {
   "cell_type": "code",
   "execution_count": 9,
   "id": "d70851ef",
   "metadata": {},
   "outputs": [
    {
     "data": {
      "text/plain": [
       "age                0.0\n",
       "sex                0.0\n",
       "bmi                0.0\n",
       "steps              0.0\n",
       "children           0.0\n",
       "smoker             0.0\n",
       "region             0.0\n",
       "charges            0.0\n",
       "blood pressure     0.0\n",
       "diabetes           0.0\n",
       "HistoryOfCancer    0.0\n",
       "MajorSurgeries     0.0\n",
       "dtype: float64"
      ]
     },
     "execution_count": 9,
     "metadata": {},
     "output_type": "execute_result"
    }
   ],
   "source": [
    "df.isnull().mean() * 100"
   ]
  },
  {
   "cell_type": "code",
   "execution_count": 10,
   "id": "58ef2e43",
   "metadata": {},
   "outputs": [
    {
     "data": {
      "text/plain": [
       "<AxesSubplot:>"
      ]
     },
     "execution_count": 10,
     "metadata": {},
     "output_type": "execute_result"
    },
    {
     "data": {
      "image/png": "[encoded data removed]",
      "text/plain": [
       "<Figure size 432x288 with 2 Axes>"
      ]
     },
     "metadata": {
      "needs_background": "light"
     },
     "output_type": "display_data"
    }
   ],
   "source": [
    "sns.heatmap(df.isnull(), cmap='viridis')"
   ]
  },
  {
   "cell_type": "markdown",
   "id": "9364d36d",
   "metadata": {},
   "source": [
    "There are no missing values as such."
   ]
  },
  {
   "cell_type": "markdown",
   "id": "58453537",
   "metadata": {},
   "source": [
    "### Show all the Duplicate rows from the dataframe"
   ]
  },
  {
   "cell_type": "code",
   "execution_count": 11,
   "id": "c4eb4135",
   "metadata": {},
   "outputs": [
    {
     "data": {
      "text/html": [
       "<div>\n",
       "<style scoped>\n",
       "    .dataframe tbody tr th:only-of-type {\n",
       "        vertical-align: middle;\n",
       "    }\n",
       "\n",
       "    .dataframe tbody tr th {\n",
       "        vertical-align: top;\n",
       "    }\n",
       "\n",
       "    .dataframe thead th {\n",
       "        text-align: right;\n",
       "    }\n",
       "</style>\n",
       "<table border=\"1\" class=\"dataframe\">\n",
       "  <thead>\n",
       "    <tr style=\"text-align: right;\">\n",
       "      <th></th>\n",
       "      <th>age</th>\n",
       "      <th>sex</th>\n",
       "      <th>bmi</th>\n",
       "      <th>steps</th>\n",
       "      <th>children</th>\n",
       "      <th>smoker</th>\n",
       "      <th>region</th>\n",
       "      <th>charges</th>\n",
       "      <th>blood pressure</th>\n",
       "      <th>diabetes</th>\n",
       "      <th>HistoryOfCancer</th>\n",
       "      <th>MajorSurgeries</th>\n",
       "    </tr>\n",
       "  </thead>\n",
       "  <tbody>\n",
       "  </tbody>\n",
       "</table>\n",
       "</div>"
      ],
      "text/plain": [
       "Empty DataFrame\n",
       "Columns: [age, sex, bmi, steps, children, smoker, region, charges, blood pressure, diabetes, HistoryOfCancer, MajorSurgeries]\n",
       "Index: []"
      ]
     },
     "execution_count": 11,
     "metadata": {},
     "output_type": "execute_result"
    }
   ],
   "source": [
    "duplicate_data = df[df.duplicated()]\n",
    "duplicate_data"
   ]
  },
  {
   "cell_type": "code",
   "execution_count": 12,
   "id": "b0a26fa2",
   "metadata": {},
   "outputs": [
    {
     "data": {
      "text/plain": [
       "0"
      ]
     },
     "execution_count": 12,
     "metadata": {},
     "output_type": "execute_result"
    }
   ],
   "source": [
    "df.duplicated().sum()"
   ]
  },
  {
   "cell_type": "markdown",
   "id": "bd10a400",
   "metadata": {},
   "source": [
    "### Drop all the Duplicate Rows"
   ]
  },
  {
   "cell_type": "code",
   "execution_count": 13,
   "id": "1718468a",
   "metadata": {},
   "outputs": [
    {
     "data": {
      "text/html": [
       "<div>\n",
       "<style scoped>\n",
       "    .dataframe tbody tr th:only-of-type {\n",
       "        vertical-align: middle;\n",
       "    }\n",
       "\n",
       "    .dataframe tbody tr th {\n",
       "        vertical-align: top;\n",
       "    }\n",
       "\n",
       "    .dataframe thead th {\n",
       "        text-align: right;\n",
       "    }\n",
       "</style>\n",
       "<table border=\"1\" class=\"dataframe\">\n",
       "  <thead>\n",
       "    <tr style=\"text-align: right;\">\n",
       "      <th></th>\n",
       "      <th>age</th>\n",
       "      <th>sex</th>\n",
       "      <th>bmi</th>\n",
       "      <th>steps</th>\n",
       "      <th>children</th>\n",
       "      <th>smoker</th>\n",
       "      <th>region</th>\n",
       "      <th>charges</th>\n",
       "      <th>blood pressure</th>\n",
       "      <th>diabetes</th>\n",
       "      <th>HistoryOfCancer</th>\n",
       "      <th>MajorSurgeries</th>\n",
       "    </tr>\n",
       "  </thead>\n",
       "  <tbody>\n",
       "    <tr>\n",
       "      <th>0</th>\n",
       "      <td>19</td>\n",
       "      <td>female</td>\n",
       "      <td>27.900</td>\n",
       "      <td>3009</td>\n",
       "      <td>0</td>\n",
       "      <td>yes</td>\n",
       "      <td>South West</td>\n",
       "      <td>16884.92400</td>\n",
       "      <td>no</td>\n",
       "      <td>no</td>\n",
       "      <td>no</td>\n",
       "      <td>0</td>\n",
       "    </tr>\n",
       "    <tr>\n",
       "      <th>1</th>\n",
       "      <td>18</td>\n",
       "      <td>male</td>\n",
       "      <td>33.770</td>\n",
       "      <td>3008</td>\n",
       "      <td>1</td>\n",
       "      <td>no</td>\n",
       "      <td>South East</td>\n",
       "      <td>1725.55230</td>\n",
       "      <td>no</td>\n",
       "      <td>no</td>\n",
       "      <td>no</td>\n",
       "      <td>0</td>\n",
       "    </tr>\n",
       "    <tr>\n",
       "      <th>2</th>\n",
       "      <td>28</td>\n",
       "      <td>male</td>\n",
       "      <td>33.000</td>\n",
       "      <td>3009</td>\n",
       "      <td>3</td>\n",
       "      <td>no</td>\n",
       "      <td>South East</td>\n",
       "      <td>4449.46200</td>\n",
       "      <td>yes</td>\n",
       "      <td>yes</td>\n",
       "      <td>no</td>\n",
       "      <td>1</td>\n",
       "    </tr>\n",
       "    <tr>\n",
       "      <th>3</th>\n",
       "      <td>33</td>\n",
       "      <td>male</td>\n",
       "      <td>22.705</td>\n",
       "      <td>10009</td>\n",
       "      <td>0</td>\n",
       "      <td>no</td>\n",
       "      <td>North West</td>\n",
       "      <td>21984.47061</td>\n",
       "      <td>yes</td>\n",
       "      <td>yes</td>\n",
       "      <td>no</td>\n",
       "      <td>2</td>\n",
       "    </tr>\n",
       "    <tr>\n",
       "      <th>4</th>\n",
       "      <td>32</td>\n",
       "      <td>male</td>\n",
       "      <td>28.880</td>\n",
       "      <td>8010</td>\n",
       "      <td>0</td>\n",
       "      <td>no</td>\n",
       "      <td>North West</td>\n",
       "      <td>3866.85520</td>\n",
       "      <td>no</td>\n",
       "      <td>yes</td>\n",
       "      <td>no</td>\n",
       "      <td>1</td>\n",
       "    </tr>\n",
       "    <tr>\n",
       "      <th>...</th>\n",
       "      <td>...</td>\n",
       "      <td>...</td>\n",
       "      <td>...</td>\n",
       "      <td>...</td>\n",
       "      <td>...</td>\n",
       "      <td>...</td>\n",
       "      <td>...</td>\n",
       "      <td>...</td>\n",
       "      <td>...</td>\n",
       "      <td>...</td>\n",
       "      <td>...</td>\n",
       "      <td>...</td>\n",
       "    </tr>\n",
       "    <tr>\n",
       "      <th>1333</th>\n",
       "      <td>50</td>\n",
       "      <td>male</td>\n",
       "      <td>30.970</td>\n",
       "      <td>4008</td>\n",
       "      <td>3</td>\n",
       "      <td>no</td>\n",
       "      <td>North West</td>\n",
       "      <td>10600.54830</td>\n",
       "      <td>no</td>\n",
       "      <td>yes</td>\n",
       "      <td>no</td>\n",
       "      <td>0</td>\n",
       "    </tr>\n",
       "    <tr>\n",
       "      <th>1334</th>\n",
       "      <td>18</td>\n",
       "      <td>female</td>\n",
       "      <td>31.920</td>\n",
       "      <td>3003</td>\n",
       "      <td>0</td>\n",
       "      <td>no</td>\n",
       "      <td>North East</td>\n",
       "      <td>2205.98080</td>\n",
       "      <td>yes</td>\n",
       "      <td>yes</td>\n",
       "      <td>no</td>\n",
       "      <td>1</td>\n",
       "    </tr>\n",
       "    <tr>\n",
       "      <th>1335</th>\n",
       "      <td>18</td>\n",
       "      <td>female</td>\n",
       "      <td>36.850</td>\n",
       "      <td>3008</td>\n",
       "      <td>0</td>\n",
       "      <td>no</td>\n",
       "      <td>South East</td>\n",
       "      <td>1629.83350</td>\n",
       "      <td>yes</td>\n",
       "      <td>no</td>\n",
       "      <td>no</td>\n",
       "      <td>2</td>\n",
       "    </tr>\n",
       "    <tr>\n",
       "      <th>1336</th>\n",
       "      <td>21</td>\n",
       "      <td>female</td>\n",
       "      <td>25.800</td>\n",
       "      <td>8009</td>\n",
       "      <td>0</td>\n",
       "      <td>no</td>\n",
       "      <td>South West</td>\n",
       "      <td>2007.94500</td>\n",
       "      <td>no</td>\n",
       "      <td>no</td>\n",
       "      <td>no</td>\n",
       "      <td>0</td>\n",
       "    </tr>\n",
       "    <tr>\n",
       "      <th>1337</th>\n",
       "      <td>61</td>\n",
       "      <td>female</td>\n",
       "      <td>29.070</td>\n",
       "      <td>8008</td>\n",
       "      <td>0</td>\n",
       "      <td>yes</td>\n",
       "      <td>North West</td>\n",
       "      <td>29141.36030</td>\n",
       "      <td>yes</td>\n",
       "      <td>yes</td>\n",
       "      <td>no</td>\n",
       "      <td>0</td>\n",
       "    </tr>\n",
       "  </tbody>\n",
       "</table>\n",
       "<p>1338 rows × 12 columns</p>\n",
       "</div>"
      ],
      "text/plain": [
       "      age     sex     bmi  steps  children smoker      region      charges  \\\n",
       "0      19  female  27.900   3009         0    yes  South West  16884.92400   \n",
       "1      18    male  33.770   3008         1     no  South East   1725.55230   \n",
       "2      28    male  33.000   3009         3     no  South East   4449.46200   \n",
       "3      33    male  22.705  10009         0     no  North West  21984.47061   \n",
       "4      32    male  28.880   8010         0     no  North West   3866.85520   \n",
       "...   ...     ...     ...    ...       ...    ...         ...          ...   \n",
       "1333   50    male  30.970   4008         3     no  North West  10600.54830   \n",
       "1334   18  female  31.920   3003         0     no  North East   2205.98080   \n",
       "1335   18  female  36.850   3008         0     no  South East   1629.83350   \n",
       "1336   21  female  25.800   8009         0     no  South West   2007.94500   \n",
       "1337   61  female  29.070   8008         0    yes  North West  29141.36030   \n",
       "\n",
       "     blood pressure diabetes HistoryOfCancer  MajorSurgeries  \n",
       "0                no       no              no               0  \n",
       "1                no       no              no               0  \n",
       "2               yes      yes              no               1  \n",
       "3               yes      yes              no               2  \n",
       "4                no      yes              no               1  \n",
       "...             ...      ...             ...             ...  \n",
       "1333             no      yes              no               0  \n",
       "1334            yes      yes              no               1  \n",
       "1335            yes       no              no               2  \n",
       "1336             no       no              no               0  \n",
       "1337            yes      yes              no               0  \n",
       "\n",
       "[1338 rows x 12 columns]"
      ]
     },
     "execution_count": 13,
     "metadata": {},
     "output_type": "execute_result"
    }
   ],
   "source": [
    "df = df.drop_duplicates()\n",
    "df"
   ]
  },
  {
   "cell_type": "markdown",
   "id": "bda33495",
   "metadata": {},
   "source": [
    "### Now check for all duplicate rows now\n"
   ]
  },
  {
   "cell_type": "code",
   "execution_count": 14,
   "id": "aa7efeb5",
   "metadata": {},
   "outputs": [
    {
     "data": {
      "text/plain": [
       "0"
      ]
     },
     "execution_count": 14,
     "metadata": {},
     "output_type": "execute_result"
    }
   ],
   "source": [
    "df.duplicated().sum()"
   ]
  },
  {
   "cell_type": "markdown",
   "id": "5d378fd1",
   "metadata": {},
   "source": [
    "## Data Pre-processing"
   ]
  },
  {
   "cell_type": "markdown",
   "id": "6cb29519",
   "metadata": {},
   "source": [
    "### Converting Categorical Features to Numerical"
   ]
  },
  {
   "cell_type": "code",
   "execution_count": 15,
   "id": "2d95cfb3",
   "metadata": {},
   "outputs": [],
   "source": [
    "clean_data = {'sex': {'male' : 1 , 'female' : 0} ,\n",
    "              'smoker': {'no': 0 , 'yes' : 1},\n",
    "              'region' : {'North West':1, 'North East':0,'South East':2,'South West':3},\n",
    "              'blood pressure' : { 'no' : 0 , 'yes' : 1},\n",
    "              'diabetes' : {'no' : 0 , 'yes' : 1},\n",
    "              'HistoryOfCancer' : {'no' : 0 , 'yes' : 1}\n",
    "               }\n",
    "df_copy = df.copy()\n",
    "df_copy.replace(clean_data, inplace=True)"
   ]
  },
  {
   "cell_type": "code",
   "execution_count": 16,
   "id": "6603f5cb",
   "metadata": {
    "scrolled": false
   },
   "outputs": [
    {
     "data": {
      "text/html": [
       "<div>\n",
       "<style scoped>\n",
       "    .dataframe tbody tr th:only-of-type {\n",
       "        vertical-align: middle;\n",
       "    }\n",
       "\n",
       "    .dataframe tbody tr th {\n",
       "        vertical-align: top;\n",
       "    }\n",
       "\n",
       "    .dataframe thead th {\n",
       "        text-align: right;\n",
       "    }\n",
       "</style>\n",
       "<table border=\"1\" class=\"dataframe\">\n",
       "  <thead>\n",
       "    <tr style=\"text-align: right;\">\n",
       "      <th></th>\n",
       "      <th>age</th>\n",
       "      <th>sex</th>\n",
       "      <th>bmi</th>\n",
       "      <th>steps</th>\n",
       "      <th>children</th>\n",
       "      <th>smoker</th>\n",
       "      <th>region</th>\n",
       "      <th>charges</th>\n",
       "      <th>blood pressure</th>\n",
       "      <th>diabetes</th>\n",
       "      <th>HistoryOfCancer</th>\n",
       "      <th>MajorSurgeries</th>\n",
       "    </tr>\n",
       "  </thead>\n",
       "  <tbody>\n",
       "    <tr>\n",
       "      <th>count</th>\n",
       "      <td>1338.000000</td>\n",
       "      <td>1338.000000</td>\n",
       "      <td>1338.000000</td>\n",
       "      <td>1338.000000</td>\n",
       "      <td>1338.000000</td>\n",
       "      <td>1338.000000</td>\n",
       "      <td>1338.000000</td>\n",
       "      <td>1338.000000</td>\n",
       "      <td>1338.000000</td>\n",
       "      <td>1338.000000</td>\n",
       "      <td>1338.000000</td>\n",
       "      <td>1338.000000</td>\n",
       "    </tr>\n",
       "    <tr>\n",
       "      <th>mean</th>\n",
       "      <td>39.207025</td>\n",
       "      <td>0.505232</td>\n",
       "      <td>30.663397</td>\n",
       "      <td>5328.623318</td>\n",
       "      <td>1.094918</td>\n",
       "      <td>0.204783</td>\n",
       "      <td>1.515695</td>\n",
       "      <td>13270.422265</td>\n",
       "      <td>0.493274</td>\n",
       "      <td>0.424514</td>\n",
       "      <td>0.118834</td>\n",
       "      <td>0.677130</td>\n",
       "    </tr>\n",
       "    <tr>\n",
       "      <th>std</th>\n",
       "      <td>14.049960</td>\n",
       "      <td>0.500160</td>\n",
       "      <td>6.098187</td>\n",
       "      <td>2453.643236</td>\n",
       "      <td>1.205493</td>\n",
       "      <td>0.403694</td>\n",
       "      <td>1.104885</td>\n",
       "      <td>12110.011237</td>\n",
       "      <td>0.500142</td>\n",
       "      <td>0.494454</td>\n",
       "      <td>0.323714</td>\n",
       "      <td>0.753213</td>\n",
       "    </tr>\n",
       "    <tr>\n",
       "      <th>min</th>\n",
       "      <td>18.000000</td>\n",
       "      <td>0.000000</td>\n",
       "      <td>15.960000</td>\n",
       "      <td>3000.000000</td>\n",
       "      <td>0.000000</td>\n",
       "      <td>0.000000</td>\n",
       "      <td>0.000000</td>\n",
       "      <td>1121.873900</td>\n",
       "      <td>0.000000</td>\n",
       "      <td>0.000000</td>\n",
       "      <td>0.000000</td>\n",
       "      <td>0.000000</td>\n",
       "    </tr>\n",
       "    <tr>\n",
       "      <th>25%</th>\n",
       "      <td>27.000000</td>\n",
       "      <td>0.000000</td>\n",
       "      <td>26.296250</td>\n",
       "      <td>3008.000000</td>\n",
       "      <td>0.000000</td>\n",
       "      <td>0.000000</td>\n",
       "      <td>1.000000</td>\n",
       "      <td>4740.287150</td>\n",
       "      <td>0.000000</td>\n",
       "      <td>0.000000</td>\n",
       "      <td>0.000000</td>\n",
       "      <td>0.000000</td>\n",
       "    </tr>\n",
       "    <tr>\n",
       "      <th>50%</th>\n",
       "      <td>39.000000</td>\n",
       "      <td>1.000000</td>\n",
       "      <td>30.400000</td>\n",
       "      <td>4007.000000</td>\n",
       "      <td>1.000000</td>\n",
       "      <td>0.000000</td>\n",
       "      <td>2.000000</td>\n",
       "      <td>9382.033000</td>\n",
       "      <td>0.000000</td>\n",
       "      <td>0.000000</td>\n",
       "      <td>0.000000</td>\n",
       "      <td>1.000000</td>\n",
       "    </tr>\n",
       "    <tr>\n",
       "      <th>75%</th>\n",
       "      <td>51.000000</td>\n",
       "      <td>1.000000</td>\n",
       "      <td>34.693750</td>\n",
       "      <td>8004.000000</td>\n",
       "      <td>2.000000</td>\n",
       "      <td>0.000000</td>\n",
       "      <td>2.000000</td>\n",
       "      <td>16639.912515</td>\n",
       "      <td>1.000000</td>\n",
       "      <td>1.000000</td>\n",
       "      <td>0.000000</td>\n",
       "      <td>1.000000</td>\n",
       "    </tr>\n",
       "    <tr>\n",
       "      <th>max</th>\n",
       "      <td>64.000000</td>\n",
       "      <td>1.000000</td>\n",
       "      <td>53.130000</td>\n",
       "      <td>10010.000000</td>\n",
       "      <td>5.000000</td>\n",
       "      <td>1.000000</td>\n",
       "      <td>3.000000</td>\n",
       "      <td>63770.428010</td>\n",
       "      <td>1.000000</td>\n",
       "      <td>1.000000</td>\n",
       "      <td>1.000000</td>\n",
       "      <td>3.000000</td>\n",
       "    </tr>\n",
       "  </tbody>\n",
       "</table>\n",
       "</div>"
      ],
      "text/plain": [
       "               age          sex          bmi         steps     children  \\\n",
       "count  1338.000000  1338.000000  1338.000000   1338.000000  1338.000000   \n",
       "mean     39.207025     0.505232    30.663397   5328.623318     1.094918   \n",
       "std      14.049960     0.500160     6.098187   2453.643236     1.205493   \n",
       "min      18.000000     0.000000    15.960000   3000.000000     0.000000   \n",
       "25%      27.000000     0.000000    26.296250   3008.000000     0.000000   \n",
       "50%      39.000000     1.000000    30.400000   4007.000000     1.000000   \n",
       "75%      51.000000     1.000000    34.693750   8004.000000     2.000000   \n",
       "max      64.000000     1.000000    53.130000  10010.000000     5.000000   \n",
       "\n",
       "            smoker       region       charges  blood pressure     diabetes  \\\n",
       "count  1338.000000  1338.000000   1338.000000     1338.000000  1338.000000   \n",
       "mean      0.204783     1.515695  13270.422265        0.493274     0.424514   \n",
       "std       0.403694     1.104885  12110.011237        0.500142     0.494454   \n",
       "min       0.000000     0.000000   1121.873900        0.000000     0.000000   \n",
       "25%       0.000000     1.000000   4740.287150        0.000000     0.000000   \n",
       "50%       0.000000     2.000000   9382.033000        0.000000     0.000000   \n",
       "75%       0.000000     2.000000  16639.912515        1.000000     1.000000   \n",
       "max       1.000000     3.000000  63770.428010        1.000000     1.000000   \n",
       "\n",
       "       HistoryOfCancer  MajorSurgeries  \n",
       "count      1338.000000     1338.000000  \n",
       "mean          0.118834        0.677130  \n",
       "std           0.323714        0.753213  \n",
       "min           0.000000        0.000000  \n",
       "25%           0.000000        0.000000  \n",
       "50%           0.000000        1.000000  \n",
       "75%           0.000000        1.000000  \n",
       "max           1.000000        3.000000  "
      ]
     },
     "execution_count": 16,
     "metadata": {},
     "output_type": "execute_result"
    }
   ],
   "source": [
    "df_copy.describe()"
   ]
  },
  {
   "cell_type": "code",
   "execution_count": 17,
   "id": "e29f0bfe",
   "metadata": {},
   "outputs": [
    {
     "data": {
      "text/html": [
       "<div>\n",
       "<style scoped>\n",
       "    .dataframe tbody tr th:only-of-type {\n",
       "        vertical-align: middle;\n",
       "    }\n",
       "\n",
       "    .dataframe tbody tr th {\n",
       "        vertical-align: top;\n",
       "    }\n",
       "\n",
       "    .dataframe thead th {\n",
       "        text-align: right;\n",
       "    }\n",
       "</style>\n",
       "<table border=\"1\" class=\"dataframe\">\n",
       "  <thead>\n",
       "    <tr style=\"text-align: right;\">\n",
       "      <th></th>\n",
       "      <th>age</th>\n",
       "      <th>sex</th>\n",
       "      <th>bmi</th>\n",
       "      <th>steps</th>\n",
       "      <th>children</th>\n",
       "      <th>smoker</th>\n",
       "      <th>region</th>\n",
       "      <th>charges</th>\n",
       "      <th>blood pressure</th>\n",
       "      <th>diabetes</th>\n",
       "      <th>HistoryOfCancer</th>\n",
       "      <th>MajorSurgeries</th>\n",
       "    </tr>\n",
       "  </thead>\n",
       "  <tbody>\n",
       "    <tr>\n",
       "      <th>0</th>\n",
       "      <td>19</td>\n",
       "      <td>0</td>\n",
       "      <td>27.900</td>\n",
       "      <td>3009</td>\n",
       "      <td>0</td>\n",
       "      <td>1</td>\n",
       "      <td>3</td>\n",
       "      <td>16884.92400</td>\n",
       "      <td>0</td>\n",
       "      <td>0</td>\n",
       "      <td>0</td>\n",
       "      <td>0</td>\n",
       "    </tr>\n",
       "    <tr>\n",
       "      <th>1</th>\n",
       "      <td>18</td>\n",
       "      <td>1</td>\n",
       "      <td>33.770</td>\n",
       "      <td>3008</td>\n",
       "      <td>1</td>\n",
       "      <td>0</td>\n",
       "      <td>2</td>\n",
       "      <td>1725.55230</td>\n",
       "      <td>0</td>\n",
       "      <td>0</td>\n",
       "      <td>0</td>\n",
       "      <td>0</td>\n",
       "    </tr>\n",
       "    <tr>\n",
       "      <th>2</th>\n",
       "      <td>28</td>\n",
       "      <td>1</td>\n",
       "      <td>33.000</td>\n",
       "      <td>3009</td>\n",
       "      <td>3</td>\n",
       "      <td>0</td>\n",
       "      <td>2</td>\n",
       "      <td>4449.46200</td>\n",
       "      <td>1</td>\n",
       "      <td>1</td>\n",
       "      <td>0</td>\n",
       "      <td>1</td>\n",
       "    </tr>\n",
       "    <tr>\n",
       "      <th>3</th>\n",
       "      <td>33</td>\n",
       "      <td>1</td>\n",
       "      <td>22.705</td>\n",
       "      <td>10009</td>\n",
       "      <td>0</td>\n",
       "      <td>0</td>\n",
       "      <td>1</td>\n",
       "      <td>21984.47061</td>\n",
       "      <td>1</td>\n",
       "      <td>1</td>\n",
       "      <td>0</td>\n",
       "      <td>2</td>\n",
       "    </tr>\n",
       "    <tr>\n",
       "      <th>4</th>\n",
       "      <td>32</td>\n",
       "      <td>1</td>\n",
       "      <td>28.880</td>\n",
       "      <td>8010</td>\n",
       "      <td>0</td>\n",
       "      <td>0</td>\n",
       "      <td>1</td>\n",
       "      <td>3866.85520</td>\n",
       "      <td>0</td>\n",
       "      <td>1</td>\n",
       "      <td>0</td>\n",
       "      <td>1</td>\n",
       "    </tr>\n",
       "    <tr>\n",
       "      <th>...</th>\n",
       "      <td>...</td>\n",
       "      <td>...</td>\n",
       "      <td>...</td>\n",
       "      <td>...</td>\n",
       "      <td>...</td>\n",
       "      <td>...</td>\n",
       "      <td>...</td>\n",
       "      <td>...</td>\n",
       "      <td>...</td>\n",
       "      <td>...</td>\n",
       "      <td>...</td>\n",
       "      <td>...</td>\n",
       "    </tr>\n",
       "    <tr>\n",
       "      <th>1333</th>\n",
       "      <td>50</td>\n",
       "      <td>1</td>\n",
       "      <td>30.970</td>\n",
       "      <td>4008</td>\n",
       "      <td>3</td>\n",
       "      <td>0</td>\n",
       "      <td>1</td>\n",
       "      <td>10600.54830</td>\n",
       "      <td>0</td>\n",
       "      <td>1</td>\n",
       "      <td>0</td>\n",
       "      <td>0</td>\n",
       "    </tr>\n",
       "    <tr>\n",
       "      <th>1334</th>\n",
       "      <td>18</td>\n",
       "      <td>0</td>\n",
       "      <td>31.920</td>\n",
       "      <td>3003</td>\n",
       "      <td>0</td>\n",
       "      <td>0</td>\n",
       "      <td>0</td>\n",
       "      <td>2205.98080</td>\n",
       "      <td>1</td>\n",
       "      <td>1</td>\n",
       "      <td>0</td>\n",
       "      <td>1</td>\n",
       "    </tr>\n",
       "    <tr>\n",
       "      <th>1335</th>\n",
       "      <td>18</td>\n",
       "      <td>0</td>\n",
       "      <td>36.850</td>\n",
       "      <td>3008</td>\n",
       "      <td>0</td>\n",
       "      <td>0</td>\n",
       "      <td>2</td>\n",
       "      <td>1629.83350</td>\n",
       "      <td>1</td>\n",
       "      <td>0</td>\n",
       "      <td>0</td>\n",
       "      <td>2</td>\n",
       "    </tr>\n",
       "    <tr>\n",
       "      <th>1336</th>\n",
       "      <td>21</td>\n",
       "      <td>0</td>\n",
       "      <td>25.800</td>\n",
       "      <td>8009</td>\n",
       "      <td>0</td>\n",
       "      <td>0</td>\n",
       "      <td>3</td>\n",
       "      <td>2007.94500</td>\n",
       "      <td>0</td>\n",
       "      <td>0</td>\n",
       "      <td>0</td>\n",
       "      <td>0</td>\n",
       "    </tr>\n",
       "    <tr>\n",
       "      <th>1337</th>\n",
       "      <td>61</td>\n",
       "      <td>0</td>\n",
       "      <td>29.070</td>\n",
       "      <td>8008</td>\n",
       "      <td>0</td>\n",
       "      <td>1</td>\n",
       "      <td>1</td>\n",
       "      <td>29141.36030</td>\n",
       "      <td>1</td>\n",
       "      <td>1</td>\n",
       "      <td>0</td>\n",
       "      <td>0</td>\n",
       "    </tr>\n",
       "  </tbody>\n",
       "</table>\n",
       "<p>1338 rows × 12 columns</p>\n",
       "</div>"
      ],
      "text/plain": [
       "      age  sex     bmi  steps  children  smoker  region      charges  \\\n",
       "0      19    0  27.900   3009         0       1       3  16884.92400   \n",
       "1      18    1  33.770   3008         1       0       2   1725.55230   \n",
       "2      28    1  33.000   3009         3       0       2   4449.46200   \n",
       "3      33    1  22.705  10009         0       0       1  21984.47061   \n",
       "4      32    1  28.880   8010         0       0       1   3866.85520   \n",
       "...   ...  ...     ...    ...       ...     ...     ...          ...   \n",
       "1333   50    1  30.970   4008         3       0       1  10600.54830   \n",
       "1334   18    0  31.920   3003         0       0       0   2205.98080   \n",
       "1335   18    0  36.850   3008         0       0       2   1629.83350   \n",
       "1336   21    0  25.800   8009         0       0       3   2007.94500   \n",
       "1337   61    0  29.070   8008         0       1       1  29141.36030   \n",
       "\n",
       "      blood pressure  diabetes  HistoryOfCancer  MajorSurgeries  \n",
       "0                  0         0                0               0  \n",
       "1                  0         0                0               0  \n",
       "2                  1         1                0               1  \n",
       "3                  1         1                0               2  \n",
       "4                  0         1                0               1  \n",
       "...              ...       ...              ...             ...  \n",
       "1333               0         1                0               0  \n",
       "1334               1         1                0               1  \n",
       "1335               1         0                0               2  \n",
       "1336               0         0                0               0  \n",
       "1337               1         1                0               0  \n",
       "\n",
       "[1338 rows x 12 columns]"
      ]
     },
     "execution_count": 17,
     "metadata": {},
     "output_type": "execute_result"
    }
   ],
   "source": [
    "df_copy"
   ]
  },
  {
   "cell_type": "code",
   "execution_count": 18,
   "id": "279a7ef9",
   "metadata": {},
   "outputs": [
    {
     "data": {
      "image/png": "[encoded data removed]",
      "text/plain": [
       "<Figure size 720x720 with 2 Axes>"
      ]
     },
     "metadata": {
      "needs_background": "light"
     },
     "output_type": "display_data"
    }
   ],
   "source": [
    "f, ax = plt.subplots(1, 1, figsize=(10, 10))\n",
    "ax = sns.heatmap(df_copy.corr(), annot=True)"
   ]
  },
  {
   "cell_type": "markdown",
   "id": "1c699f6e",
   "metadata": {},
   "source": [
    " There are no other values in above pre-preocessed column Now we can proceed with EDA"
   ]
  },
  {
   "cell_type": "markdown",
   "id": "7d5cd770",
   "metadata": {},
   "source": [
    "# Exploratory Data Analysis (EDA) "
   ]
  },
  {
   "cell_type": "markdown",
   "id": "27cdafce",
   "metadata": {},
   "source": [
    "### Lets see how the charges are distributed according to given factors"
   ]
  },
  {
   "cell_type": "code",
   "execution_count": 19,
   "id": "5e9ea634",
   "metadata": {},
   "outputs": [
    {
     "data": {
      "text/plain": [
       "Text(0.5, 1.0, 'Distribution of Charges')"
      ]
     },
     "execution_count": 19,
     "metadata": {},
     "output_type": "execute_result"
    },
    {
     "data": {
      "image/png": "[encoded data removed]",
      "text/plain": [
       "<Figure size 864x576 with 1 Axes>"
      ]
     },
     "metadata": {},
     "output_type": "display_data"
    }
   ],
   "source": [
    "sns.set(style='whitegrid')\n",
    "f, ax = plt.subplots(1,1, figsize=(12, 8))\n",
    "ax = sns.distplot(df['charges'], kde = True, color = 'r')\n",
    "plt.title('Distribution of Charges')"
   ]
  },
  {
   "cell_type": "markdown",
   "id": "0b14a958",
   "metadata": {},
   "source": [
    "### Now let's look at the charges by Age"
   ]
  },
  {
   "cell_type": "code",
   "execution_count": 20,
   "id": "09108709",
   "metadata": {},
   "outputs": [
    {
     "data": {
      "text/plain": [
       "<AxesSubplot:title={'center':'Age vs Charge'}, xlabel='age', ylabel='charges'>"
      ]
     },
     "execution_count": 20,
     "metadata": {},
     "output_type": "execute_result"
    },
    {
     "data": {
      "image/png": "[encoded data removed]",
      "text/plain": [
       "<Figure size 864x648 with 1 Axes>"
      ]
     },
     "metadata": {},
     "output_type": "display_data"
    }
   ],
   "source": [
    "plt.figure(figsize=(12,9))\n",
    "plt.title('Age vs Charge')\n",
    "sns.barplot(x='age',y='charges',data=df_copy,palette='husl')\n",
    "#plt.savefig('./sampleImages/AgevsCharges')"
   ]
  },
  {
   "cell_type": "markdown",
   "id": "55b07222",
   "metadata": {},
   "source": [
    "### Now let's look at the charges by Region"
   ]
  },
  {
   "cell_type": "code",
   "execution_count": 21,
   "id": "b3d11e4d",
   "metadata": {},
   "outputs": [
    {
     "data": {
      "text/plain": [
       "<AxesSubplot:title={'center':'Region vs Charge'}, xlabel='region', ylabel='charges'>"
      ]
     },
     "execution_count": 21,
     "metadata": {},
     "output_type": "execute_result"
    },
    {
     "data": {
      "image/png": "[encoded data removed]",
      "text/plain": [
       "<Figure size 720x288 with 1 Axes>"
      ]
     },
     "metadata": {},
     "output_type": "display_data"
    }
   ],
   "source": [
    "plt.figure(figsize=(10,4))\n",
    "plt.title('Region vs Charge')\n",
    "sns.barplot(x='region',y='charges',data=df_copy,palette='husl',hue='sex')"
   ]
  },
  {
   "cell_type": "markdown",
   "id": "6e78b57f",
   "metadata": {},
   "source": [
    "### Now let's look at the charges by Smoker"
   ]
  },
  {
   "cell_type": "code",
   "execution_count": 22,
   "id": "b91b6b3f",
   "metadata": {},
   "outputs": [
    {
     "data": {
      "text/plain": [
       "<AxesSubplot:title={'center':'Smoker vs Charge'}, xlabel='smoker', ylabel='charges'>"
      ]
     },
     "execution_count": 22,
     "metadata": {},
     "output_type": "execute_result"
    },
    {
     "data": {
      "image/png": "[encoded data removed]",
      "text/plain": [
       "<Figure size 720x288 with 1 Axes>"
      ]
     },
     "metadata": {},
     "output_type": "display_data"
    }
   ],
   "source": [
    "plt.figure(figsize=(10,4))\n",
    "plt.title('Smoker vs Charge')\n",
    "sns.barplot(x='smoker',y='charges',data=df_copy,palette='husl',hue='sex')"
   ]
  },
  {
   "cell_type": "markdown",
   "id": "e147e343",
   "metadata": {},
   "source": [
    "### Now let's look at the charges by Sex"
   ]
  },
  {
   "cell_type": "code",
   "execution_count": 23,
   "id": "71f6fd9a",
   "metadata": {},
   "outputs": [
    {
     "data": {
      "text/plain": [
       "<AxesSubplot:title={'center':'Sex vs Charge'}, xlabel='sex', ylabel='charges'>"
      ]
     },
     "execution_count": 23,
     "metadata": {},
     "output_type": "execute_result"
    },
    {
     "data": {
      "image/png": "[encoded data removed]",
      "text/plain": [
       "<Figure size 720x288 with 1 Axes>"
      ]
     },
     "metadata": {},
     "output_type": "display_data"
    }
   ],
   "source": [
    "plt.figure(figsize=(10,4))\n",
    "plt.title('Sex vs Charge')\n",
    "sns.barplot(x='sex',y='charges',data=df_copy,palette='husl',hue='sex')"
   ]
  },
  {
   "cell_type": "markdown",
   "id": "fdaa1180",
   "metadata": {},
   "source": [
    "### Now let's look at the charges by Children"
   ]
  },
  {
   "cell_type": "code",
   "execution_count": 24,
   "id": "c33c4ce7",
   "metadata": {},
   "outputs": [
    {
     "data": {
      "text/plain": [
       "<AxesSubplot:title={'center':'Children vs Charge'}, xlabel='children', ylabel='charges'>"
      ]
     },
     "execution_count": 24,
     "metadata": {},
     "output_type": "execute_result"
    },
    {
     "data": {
      "image/png": "[encoded data removed]",
      "text/plain": [
       "<Figure size 720x576 with 1 Axes>"
      ]
     },
     "metadata": {},
     "output_type": "display_data"
    }
   ],
   "source": [
    "plt.figure(figsize=(10,8))\n",
    "plt.title('Children vs Charge')\n",
    "sns.barplot(x='children',y='charges',data=df_copy,palette='husl',hue ='sex')"
   ]
  },
  {
   "cell_type": "markdown",
   "id": "6da6512b",
   "metadata": {},
   "source": [
    "### Now let's look at the charges by BMI"
   ]
  },
  {
   "cell_type": "code",
   "execution_count": 25,
   "id": "2b316dc8",
   "metadata": {},
   "outputs": [
    {
     "data": {
      "text/plain": [
       "Text(0.5, 1.0, 'BMI VS Charge')"
      ]
     },
     "execution_count": 25,
     "metadata": {},
     "output_type": "execute_result"
    },
    {
     "data": {
      "image/png": "[encoded data removed]",
      "text/plain": [
       "<Figure size 720x360 with 1 Axes>"
      ]
     },
     "metadata": {},
     "output_type": "display_data"
    }
   ],
   "source": [
    "plt.figure(figsize=(10,5))\n",
    "sns.scatterplot(x='bmi',y='charges',hue='sex',data=df_copy)\n",
    "plt.title('BMI VS Charge')"
   ]
  },
  {
   "cell_type": "markdown",
   "id": "4c5f559b",
   "metadata": {},
   "source": [
    "### Let's look at the  medical charges by region according to smoker  "
   ]
  },
  {
   "cell_type": "code",
   "execution_count": 26,
   "id": "3c787b17",
   "metadata": {},
   "outputs": [
    {
     "data": {
      "image/png": "[encoded data removed]",
      "text/plain": [
       "<Figure size 864x576 with 1 Axes>"
      ]
     },
     "metadata": {},
     "output_type": "display_data"
    }
   ],
   "source": [
    "f, a = plt.subplots(1, 1, figsize=(12, 8))\n",
    "a = sns.barplot(x='region', y='charges', hue='smoker', data=df, palette='Reds')"
   ]
  },
  {
   "cell_type": "markdown",
   "id": "d089ce6b",
   "metadata": {},
   "source": [
    "### Let's see medical charges by regian according to children"
   ]
  },
  {
   "cell_type": "code",
   "execution_count": 27,
   "id": "1c5f2fde",
   "metadata": {},
   "outputs": [
    {
     "data": {
      "image/png": "[encoded data removed]",
      "text/plain": [
       "<Figure size 864x576 with 1 Axes>"
      ]
     },
     "metadata": {},
     "output_type": "display_data"
    }
   ],
   "source": [
    "f, a = plt.subplots(1, 1, figsize=(12, 8))\n",
    "a = sns.barplot(x='region', y='charges', hue='children', data=df, palette='Reds')"
   ]
  },
  {
   "cell_type": "markdown",
   "id": "32fc8637",
   "metadata": {},
   "source": [
    "### summary\n",
    "As we can see from these barplots the highest charges due to smoking are still in the Southeast but the lowest are in the Northeast. People in the Southwest generally smoke more than people in the Northeast, but people in the Northeast have higher charges by gender than in the Southwest and Northwest overall. And people with children tend to have higher medical costs overall as well."
   ]
  },
  {
   "cell_type": "markdown",
   "id": "99d6699a",
   "metadata": {},
   "source": [
    "###  let's analyze the medical charges by age, Bmi and children according to the smoking factor\n",
    "\n"
   ]
  },
  {
   "cell_type": "code",
   "execution_count": 28,
   "id": "8532b68d",
   "metadata": {},
   "outputs": [
    {
     "data": {
      "image/png": "[encoded data removed]",
      "text/plain": [
       "<Figure size 416.6x360 with 1 Axes>"
      ]
     },
     "metadata": {},
     "output_type": "display_data"
    }
   ],
   "source": [
    "a = sns.lmplot(x = 'age', y = 'charges', data=df, hue='smoker')"
   ]
  },
  {
   "cell_type": "code",
   "execution_count": 29,
   "id": "480c42a8",
   "metadata": {},
   "outputs": [
    {
     "data": {
      "image/png": "[encoded data removed]",
      "text/plain": [
       "<Figure size 416.6x360 with 1 Axes>"
      ]
     },
     "metadata": {},
     "output_type": "display_data"
    }
   ],
   "source": [
    "a = sns.lmplot(x = 'children', y = 'charges', data=df, hue='smoker')"
   ]
  },
  {
   "cell_type": "code",
   "execution_count": 30,
   "id": "905b0d2d",
   "metadata": {},
   "outputs": [
    {
     "data": {
      "image/png": "[encoded data removed]",
      "text/plain": [
       "<Figure size 416.6x360 with 1 Axes>"
      ]
     },
     "metadata": {},
     "output_type": "display_data"
    }
   ],
   "source": [
    "a = sns.lmplot(x = 'bmi', y = 'charges', data=df, hue='smoker')\n"
   ]
  },
  {
   "cell_type": "markdown",
   "id": "dcf7d488",
   "metadata": {},
   "source": [
    "Smoking has the highest impact on medical costs, even though the costs are growing with age, Bmi and children."
   ]
  },
  {
   "cell_type": "markdown",
   "id": "3dcec4c0",
   "metadata": {},
   "source": [
    "### Get Overall Statistics About The Dataset"
   ]
  },
  {
   "cell_type": "code",
   "execution_count": 31,
   "id": "6cf95558",
   "metadata": {},
   "outputs": [
    {
     "data": {
      "text/plain": [
       "age                  int64\n",
       "sex                 object\n",
       "bmi                float64\n",
       "steps                int64\n",
       "children             int64\n",
       "smoker              object\n",
       "region              object\n",
       "charges            float64\n",
       "blood pressure      object\n",
       "diabetes            object\n",
       "HistoryOfCancer     object\n",
       "MajorSurgeries       int64\n",
       "dtype: object"
      ]
     },
     "execution_count": 31,
     "metadata": {},
     "output_type": "execute_result"
    }
   ],
   "source": [
    "df.dtypes"
   ]
  },
  {
   "cell_type": "markdown",
   "id": "1dba9783",
   "metadata": {},
   "source": [
    "# Splitting of Train and the Test Data\n",
    "\n",
    "### You need to split the \"charges\" columns into X and y dataframe"
   ]
  },
  {
   "cell_type": "code",
   "execution_count": 32,
   "id": "384527c6",
   "metadata": {},
   "outputs": [
    {
     "data": {
      "text/plain": [
       "(1338, 1)"
      ]
     },
     "execution_count": 32,
     "metadata": {},
     "output_type": "execute_result"
    }
   ],
   "source": [
    "y = df_copy[[\"charges\"]].copy()\n",
    "y.shape"
   ]
  },
  {
   "cell_type": "code",
   "execution_count": 33,
   "id": "29934cdf",
   "metadata": {},
   "outputs": [],
   "source": [
    "X = df_copy.drop(['charges'],axis=1).values\n",
    "y = df_copy['charges'].values.reshape(-1,1)"
   ]
  },
  {
   "cell_type": "code",
   "execution_count": 34,
   "id": "d1dad77c",
   "metadata": {},
   "outputs": [
    {
     "data": {
      "text/plain": [
       "(1338, 11)"
      ]
     },
     "execution_count": 34,
     "metadata": {},
     "output_type": "execute_result"
    }
   ],
   "source": [
    "X.shape"
   ]
  },
  {
   "cell_type": "code",
   "execution_count": 35,
   "id": "10ec027f",
   "metadata": {},
   "outputs": [
    {
     "data": {
      "text/plain": [
       "(1338, 1)"
      ]
     },
     "execution_count": 35,
     "metadata": {},
     "output_type": "execute_result"
    }
   ],
   "source": [
    "y.shape"
   ]
  },
  {
   "cell_type": "markdown",
   "id": "c45fe125",
   "metadata": {},
   "source": [
    "### WE are expected to split both the dataframes into train and test format in 60:40 ratio \n",
    "\n",
    "- Note - The expected output should be in \"X_train\", \"X_loc_test\", \"y_train\", \"y_loc_test\" format "
   ]
  },
  {
   "cell_type": "code",
   "execution_count": 36,
   "id": "bb5532c7",
   "metadata": {},
   "outputs": [],
   "source": [
    "from sklearn.model_selection import train_test_split\n",
    "X_train,X_loc_test,y_train,y_loc_test=train_test_split(X,y,test_size=.40,random_state=0,shuffle=False)"
   ]
  },
  {
   "cell_type": "markdown",
   "id": "6bbf84d2",
   "metadata": {},
   "source": [
    "### Check for the number of rows and columns of all the 4 dataframes  "
   ]
  },
  {
   "cell_type": "code",
   "execution_count": 37,
   "id": "bc3498d2",
   "metadata": {},
   "outputs": [
    {
     "data": {
      "text/plain": [
       "(802, 11)"
      ]
     },
     "execution_count": 37,
     "metadata": {},
     "output_type": "execute_result"
    }
   ],
   "source": [
    "X_train.shape"
   ]
  },
  {
   "cell_type": "code",
   "execution_count": 38,
   "id": "d55ddc01",
   "metadata": {},
   "outputs": [
    {
     "data": {
      "text/plain": [
       "(802, 1)"
      ]
     },
     "execution_count": 38,
     "metadata": {},
     "output_type": "execute_result"
    }
   ],
   "source": [
    "y_train.shape"
   ]
  },
  {
   "cell_type": "code",
   "execution_count": 39,
   "id": "820ec403",
   "metadata": {},
   "outputs": [
    {
     "data": {
      "text/plain": [
       "(536, 11)"
      ]
     },
     "execution_count": 39,
     "metadata": {},
     "output_type": "execute_result"
    }
   ],
   "source": [
    "X_loc_test.shape"
   ]
  },
  {
   "cell_type": "code",
   "execution_count": 40,
   "id": "76b229c7",
   "metadata": {},
   "outputs": [
    {
     "data": {
      "text/plain": [
       "(536, 1)"
      ]
     },
     "execution_count": 40,
     "metadata": {},
     "output_type": "execute_result"
    }
   ],
   "source": [
    "y_loc_test.shape"
   ]
  },
  {
   "cell_type": "markdown",
   "id": "0f2506df",
   "metadata": {},
   "source": [
    "### Now We are expected to split the \"X_loc_test\" and \"y_loc_test\" dataset into \"Test\" and \"Validation\" (as the names given below) dataframe with 50:50 format \n",
    "\n",
    "- Note - The expected output should be in \"X_val\", \"X_test\", \"y_val\", \"y_test\" format"
   ]
  },
  {
   "cell_type": "code",
   "execution_count": 41,
   "id": "29746d16",
   "metadata": {},
   "outputs": [],
   "source": [
    "from sklearn.model_selection import train_test_split\n",
    "X_val,X_test,y_val,y_test=train_test_split(X_loc_test,y_loc_test,test_size=.50,random_state=0,shuffle=False)"
   ]
  },
  {
   "cell_type": "markdown",
   "id": "15b47402",
   "metadata": {},
   "source": [
    "### Check for the number of rows and columns of all the 4 dataframes "
   ]
  },
  {
   "cell_type": "code",
   "execution_count": 42,
   "id": "46358315",
   "metadata": {},
   "outputs": [
    {
     "data": {
      "text/plain": [
       "(268, 11)"
      ]
     },
     "execution_count": 42,
     "metadata": {},
     "output_type": "execute_result"
    }
   ],
   "source": [
    "X_val.shape"
   ]
  },
  {
   "cell_type": "code",
   "execution_count": 43,
   "id": "cb07f81d",
   "metadata": {},
   "outputs": [
    {
     "data": {
      "text/plain": [
       "(268, 1)"
      ]
     },
     "execution_count": 43,
     "metadata": {},
     "output_type": "execute_result"
    }
   ],
   "source": [
    "y_val.shape"
   ]
  },
  {
   "cell_type": "code",
   "execution_count": 44,
   "id": "0a5bfeea",
   "metadata": {},
   "outputs": [
    {
     "data": {
      "text/plain": [
       "(268, 11)"
      ]
     },
     "execution_count": 44,
     "metadata": {},
     "output_type": "execute_result"
    }
   ],
   "source": [
    "X_test.shape"
   ]
  },
  {
   "cell_type": "code",
   "execution_count": 45,
   "id": "88558d44",
   "metadata": {},
   "outputs": [
    {
     "data": {
      "text/plain": [
       "(268, 1)"
      ]
     },
     "execution_count": 45,
     "metadata": {},
     "output_type": "execute_result"
    }
   ],
   "source": [
    "y_test.shape"
   ]
  },
  {
   "cell_type": "markdown",
   "id": "f9adb8ea",
   "metadata": {},
   "source": [
    "# Modelling \n",
    "\n",
    "#### We need to compare with different machine learning models, and needs to find out the best predicted model\n",
    "\n",
    "- Linear Regression\n",
    "- Decision Tree Regression\n",
    "- Random Forest Regression\n",
    "- Support Vector Regression\n",
    "- Extreme Gradient Boost Regression "
   ]
  },
  {
   "cell_type": "markdown",
   "id": "0a526b96",
   "metadata": {},
   "source": [
    "### We need to make different blank list for different evaluation matrix \n",
    "\n",
    "- MSE\n",
    "- R2\n",
    "- Algorithm"
   ]
  },
  {
   "cell_type": "code",
   "execution_count": 46,
   "id": "733551b3",
   "metadata": {},
   "outputs": [],
   "source": [
    "MSE_Score = []\n",
    "R2_Score = []\n",
    "Algorithm = []\n",
    "from sklearn.metrics import mean_squared_error\n",
    "from sklearn.metrics import r2_score"
   ]
  },
  {
   "cell_type": "markdown",
   "id": "164c5591",
   "metadata": {},
   "source": [
    "# Linear Regression"
   ]
  },
  {
   "cell_type": "code",
   "execution_count": 47,
   "id": "e3ae7bc6",
   "metadata": {},
   "outputs": [],
   "source": [
    "from sklearn.linear_model import LinearRegression\n",
    "Algorithm.append('LinearRegression')\n",
    "regressor1 = LinearRegression()\n",
    "regressor1.fit(X_train, y_train)\n",
    "predicted= regressor1.predict(X_test)"
   ]
  },
  {
   "cell_type": "markdown",
   "id": "4bf0a32a",
   "metadata": {},
   "source": [
    "### Check for the \n",
    "\n",
    "- Mean Square Error\n",
    "- R Square Error \n",
    "\n",
    "for y_test and predicted dataset and store those data inside respective list for comparison "
   ]
  },
  {
   "cell_type": "code",
   "execution_count": 48,
   "id": "8bdb7faa",
   "metadata": {},
   "outputs": [],
   "source": [
    "MSE_Score.append(mean_squared_error(y_test, predicted))\n",
    "R2_Score.append(r2_score(y_test, predicted))"
   ]
  },
  {
   "cell_type": "markdown",
   "id": "04fd8316",
   "metadata": {},
   "source": [
    "### Check the same for the Validation set also "
   ]
  },
  {
   "cell_type": "code",
   "execution_count": 49,
   "id": "cb031289",
   "metadata": {},
   "outputs": [
    {
     "data": {
      "text/plain": [
       "6142.94295777593"
      ]
     },
     "execution_count": 49,
     "metadata": {},
     "output_type": "execute_result"
    }
   ],
   "source": [
    "predict_test = regressor1.predict(X_val)\n",
    "mean_squared_error(y_val, predict_test, squared=False)"
   ]
  },
  {
   "cell_type": "markdown",
   "id": "d409d859",
   "metadata": {},
   "source": [
    "### Display The Comparison Lists"
   ]
  },
  {
   "cell_type": "code",
   "execution_count": 50,
   "id": "fd10df47",
   "metadata": {},
   "outputs": [
    {
     "name": "stdout",
     "output_type": "stream",
     "text": [
      "['LinearRegression'],[35322318.764738075],[0.7705269281530479],"
     ]
    }
   ],
   "source": [
    "for i in Algorithm, MSE_Score, R2_Score:\n",
    "    print(i,end=',')"
   ]
  },
  {
   "cell_type": "markdown",
   "id": "9235b8ba",
   "metadata": {},
   "source": [
    "# Decision Tree Regression"
   ]
  },
  {
   "cell_type": "code",
   "execution_count": 51,
   "id": "5b7c8b35",
   "metadata": {},
   "outputs": [],
   "source": [
    "from sklearn.tree import DecisionTreeRegressor\n",
    "Algorithm.append('Decision Tree Regression')\n",
    "regressor2 = DecisionTreeRegressor()\n",
    "regressor2.fit(X_train, y_train)\n",
    "predicted= regressor2.predict(X_test)"
   ]
  },
  {
   "cell_type": "markdown",
   "id": "4ca2c9d5",
   "metadata": {},
   "source": [
    "### Check for the \n",
    "\n",
    "- Mean Square Error\n",
    "- R Square Error \n",
    "\n",
    "for y_test and predicted dataset and store those data inside respective list for comparison "
   ]
  },
  {
   "cell_type": "code",
   "execution_count": 52,
   "id": "a43111f6",
   "metadata": {},
   "outputs": [],
   "source": [
    "MSE_Score.append(mean_squared_error(y_test, predicted))\n",
    "R2_Score.append(r2_score(y_test, predicted))"
   ]
  },
  {
   "cell_type": "markdown",
   "id": "1ea8864f",
   "metadata": {},
   "source": [
    "### Check the same for the Validation set also "
   ]
  },
  {
   "cell_type": "code",
   "execution_count": 53,
   "id": "373cfb33",
   "metadata": {},
   "outputs": [
    {
     "data": {
      "text/plain": [
       "7242.230225495959"
      ]
     },
     "execution_count": 53,
     "metadata": {},
     "output_type": "execute_result"
    }
   ],
   "source": [
    "predict_test = regressor2.predict(X_val)\n",
    "mean_squared_error(y_val, predict_test, squared=False)"
   ]
  },
  {
   "cell_type": "markdown",
   "id": "992f16d7",
   "metadata": {},
   "source": [
    "### Display The Comparison Lists"
   ]
  },
  {
   "cell_type": "code",
   "execution_count": 54,
   "id": "afa4e1bc",
   "metadata": {},
   "outputs": [
    {
     "name": "stdout",
     "output_type": "stream",
     "text": [
      "['LinearRegression', 'Decision Tree Regression'],[35322318.764738075, 46807497.75067929],[0.7705269281530479, 0.6959129335234817],"
     ]
    }
   ],
   "source": [
    "for i in Algorithm, MSE_Score, R2_Score:\n",
    "    print(i,end=',')"
   ]
  },
  {
   "cell_type": "markdown",
   "id": "e3c52ccc",
   "metadata": {},
   "source": [
    "# Random Forest Regression"
   ]
  },
  {
   "cell_type": "code",
   "execution_count": 55,
   "id": "5b11feed",
   "metadata": {},
   "outputs": [],
   "source": [
    "from sklearn.ensemble import RandomForestRegressor\n",
    "Algorithm.append('Random Forest Regression')\n",
    "regressor3 = RandomForestRegressor()\n",
    "regressor3.fit(X_train,y_train)\n",
    "predicted=regressor3.predict(X_test)"
   ]
  },
  {
   "cell_type": "markdown",
   "id": "0d48b7bb",
   "metadata": {},
   "source": [
    "### Check for the \n",
    "\n",
    "- Mean Square Error\n",
    "- R Square Error \n",
    "\n",
    "for y_test and predicted dataset and store those data inside respective list for comparison "
   ]
  },
  {
   "cell_type": "code",
   "execution_count": 56,
   "id": "bfc3fb74",
   "metadata": {},
   "outputs": [],
   "source": [
    "MSE_Score.append(mean_squared_error(y_test, predicted))\n",
    "R2_Score.append(r2_score(y_test, predicted))"
   ]
  },
  {
   "cell_type": "markdown",
   "id": "082c8299",
   "metadata": {},
   "source": [
    "### Check the same for the Validation set also "
   ]
  },
  {
   "cell_type": "code",
   "execution_count": 57,
   "id": "e85536c8",
   "metadata": {},
   "outputs": [
    {
     "data": {
      "text/plain": [
       "5168.564765969429"
      ]
     },
     "execution_count": 57,
     "metadata": {},
     "output_type": "execute_result"
    }
   ],
   "source": [
    "predict_test = regressor3.predict(X_val)\n",
    "mean_squared_error(y_val, predict_test, squared=False)"
   ]
  },
  {
   "cell_type": "markdown",
   "id": "13eeeeee",
   "metadata": {},
   "source": [
    "### Display The Comparison Lists"
   ]
  },
  {
   "cell_type": "code",
   "execution_count": 58,
   "id": "398954cd",
   "metadata": {},
   "outputs": [
    {
     "name": "stdout",
     "output_type": "stream",
     "text": [
      "['LinearRegression', 'Decision Tree Regression', 'Random Forest Regression'],[35322318.764738075, 46807497.75067929, 22639935.0103225],[0.7705269281530479, 0.6959129335234817, 0.8529186187397064],"
     ]
    }
   ],
   "source": [
    "for i in Algorithm, MSE_Score, R2_Score:\n",
    "    print(i,end=',')"
   ]
  },
  {
   "cell_type": "markdown",
   "id": "5ce5570f",
   "metadata": {},
   "source": [
    "# Support Vector Regression"
   ]
  },
  {
   "cell_type": "code",
   "execution_count": 59,
   "id": "22ea57b5",
   "metadata": {},
   "outputs": [],
   "source": [
    "from sklearn.svm import SVR\n",
    "Algorithm.append('Support Vector Regression')\n",
    "regressor4 = SVR()\n",
    "regressor4.fit(X_train, y_train)\n",
    "predicted= regressor4.predict(X_test)"
   ]
  },
  {
   "cell_type": "markdown",
   "id": "22a28c21",
   "metadata": {},
   "source": [
    "### Check for the \n",
    "\n",
    "- Mean Square Error\n",
    "- R Square Error \n",
    "\n",
    "for y_test and predicted dataset and store those data inside respective list for comparison "
   ]
  },
  {
   "cell_type": "code",
   "execution_count": 60,
   "id": "d9d09b2b",
   "metadata": {},
   "outputs": [],
   "source": [
    "MSE_Score.append(mean_squared_error(y_test, predicted))\n",
    "R2_Score.append(r2_score(y_test, predicted))"
   ]
  },
  {
   "cell_type": "markdown",
   "id": "84e1a846",
   "metadata": {},
   "source": [
    "### Check the same for the Validation set also "
   ]
  },
  {
   "cell_type": "code",
   "execution_count": 61,
   "id": "2655ecae",
   "metadata": {},
   "outputs": [
    {
     "data": {
      "text/plain": [
       "12788.045308000543"
      ]
     },
     "execution_count": 61,
     "metadata": {},
     "output_type": "execute_result"
    }
   ],
   "source": [
    "predict_test = regressor4.predict(X_val)\n",
    "mean_squared_error(y_val, predict_test, squared=False)"
   ]
  },
  {
   "cell_type": "markdown",
   "id": "e54b8db5",
   "metadata": {},
   "source": [
    "### Display The Comparison Lists"
   ]
  },
  {
   "cell_type": "code",
   "execution_count": 62,
   "id": "e1a1fbc8",
   "metadata": {},
   "outputs": [
    {
     "name": "stdout",
     "output_type": "stream",
     "text": [
      "['LinearRegression', 'Decision Tree Regression', 'Random Forest Regression', 'Support Vector Regression'],[35322318.764738075, 46807497.75067929, 22639935.0103225, 170392171.9219984],[0.7705269281530479, 0.6959129335234817, 0.8529186187397064, -0.10696059819970016],"
     ]
    }
   ],
   "source": [
    "for i in Algorithm, MSE_Score, R2_Score:\n",
    "    print(i,end=',')"
   ]
  },
  {
   "cell_type": "markdown",
   "id": "54bc5181",
   "metadata": {},
   "source": [
    "# Extreme Gradient Boost Regression"
   ]
  },
  {
   "cell_type": "code",
   "execution_count": 63,
   "id": "93a63b0d",
   "metadata": {},
   "outputs": [
    {
     "ename": "ModuleNotFoundError",
     "evalue": "No module named 'xgboost'",
     "output_type": "error",
     "traceback": [
      "\u001b[1;31m---------------------------------------------------------------------------\u001b[0m",
      "\u001b[1;31mModuleNotFoundError\u001b[0m                       Traceback (most recent call last)",
      "Input \u001b[1;32mIn [63]\u001b[0m, in \u001b[0;36m<cell line: 1>\u001b[1;34m()\u001b[0m\n\u001b[1;32m----> 1\u001b[0m \u001b[38;5;28;01mimport\u001b[39;00m \u001b[38;5;21;01mxgboost\u001b[39;00m \u001b[38;5;28;01mas\u001b[39;00m \u001b[38;5;21;01mxgb\u001b[39;00m\n\u001b[0;32m      2\u001b[0m Algorithm\u001b[38;5;241m.\u001b[39mappend(\u001b[38;5;124m'\u001b[39m\u001b[38;5;124mExtreme Gradient Boost Regression\u001b[39m\u001b[38;5;124m'\u001b[39m)\n\u001b[0;32m      3\u001b[0m regressor5 \u001b[38;5;241m=\u001b[39m xgb\u001b[38;5;241m.\u001b[39mXGBRegressor()\n",
      "\u001b[1;31mModuleNotFoundError\u001b[0m: No module named 'xgboost'"
     ]
    }
   ],
   "source": [
    "import xgboost as xgb\n",
    "Algorithm.append('Extreme Gradient Boost Regression')\n",
    "regressor5 = xgb.XGBRegressor()\n",
    "regressor5.fit(X_train, y_train)\n",
    "predicted = regressor5.predict(X_test)"
   ]
  },
  {
   "cell_type": "markdown",
   "id": "3e006b39",
   "metadata": {},
   "source": [
    "### Check for the \n",
    "\n",
    "- Mean Square Error\n",
    "- R Square Error \n",
    "\n",
    "for y_test and predicted dataset and store those data inside respective list for comparison "
   ]
  },
  {
   "cell_type": "code",
   "execution_count": null,
   "id": "eef779f2",
   "metadata": {},
   "outputs": [],
   "source": [
    "MSE_Score.append(mean_squared_error(y_test, predicted))\n",
    "R2_Score.append(r2_score(y_test, predicted))"
   ]
  },
  {
   "cell_type": "markdown",
   "id": "54b98d68",
   "metadata": {},
   "source": [
    "### Check the same for the Validation set also "
   ]
  },
  {
   "cell_type": "code",
   "execution_count": null,
   "id": "95e04f2f",
   "metadata": {},
   "outputs": [],
   "source": [
    "predict_test = regressor5.predict(X_val)\n",
    "mean_squared_error(y_val, predict_test, squared=False)"
   ]
  },
  {
   "cell_type": "markdown",
   "id": "4619da7b",
   "metadata": {},
   "source": [
    "### Display The Comparison Lists"
   ]
  },
  {
   "cell_type": "code",
   "execution_count": null,
   "id": "c23b822f",
   "metadata": {},
   "outputs": [],
   "source": [
    "for i in Algorithm, MSE_Score, R2_Score:\n",
    "    print(i,end=',')"
   ]
  },
  {
   "cell_type": "markdown",
   "id": "01de28b0",
   "metadata": {},
   "source": [
    "### We need to make the comparison list into a comparison dataframe "
   ]
  },
  {
   "cell_type": "code",
   "execution_count": null,
   "id": "0c67af26",
   "metadata": {},
   "outputs": [],
   "source": [
    "Comparison = pd.DataFrame(list(zip(Algorithm, MSE_Score, R2_Score)), columns = ['Algorithm', 'MSE_Score', 'R2_Score'])\n",
    "Comparison"
   ]
  },
  {
   "cell_type": "markdown",
   "id": "8cf28600",
   "metadata": {},
   "source": [
    "we know that which model's R2_score is greater and MSE_score is lower , it is the best fit model as compare to other ML models .so here ,it is \"RandomForestRegressor\" model."
   ]
  },
  {
   "cell_type": "markdown",
   "id": "02cab47f",
   "metadata": {},
   "source": [
    " ### Now from the Comparison table,we need to choose the best fit model\n"
   ]
  },
  {
   "cell_type": "code",
   "execution_count": null,
   "id": "6e775728",
   "metadata": {},
   "outputs": [],
   "source": [
    "regressorfinal = RandomForestRegressor()\n",
    "regressorfinal.fit(X_train, y_train)\n",
    "predictedfinal = regressorfinal.predict(X_test)\n",
    "predict_testfinal = regressorfinal.predict(X_val)"
   ]
  },
  {
   "cell_type": "markdown",
   "id": "09bffd50",
   "metadata": {},
   "source": [
    "### Calculate the Mean Square Error for test dataset"
   ]
  },
  {
   "cell_type": "code",
   "execution_count": null,
   "id": "849464f9",
   "metadata": {},
   "outputs": [],
   "source": [
    "mean_squared_error(y_test,predictedfinal,squared=False)"
   ]
  },
  {
   "cell_type": "markdown",
   "id": "e1e185d0",
   "metadata": {},
   "source": [
    "### Calculate the mean Square Error for validation dataset"
   ]
  },
  {
   "cell_type": "code",
   "execution_count": null,
   "id": "e140cc8d",
   "metadata": {},
   "outputs": [],
   "source": [
    "mean_squared_error(y_val, predict_testfinal, squared=False)"
   ]
  },
  {
   "cell_type": "markdown",
   "id": "eaa4b5a0",
   "metadata": {},
   "source": [
    "### Calculate the R2 score for test"
   ]
  },
  {
   "cell_type": "code",
   "execution_count": null,
   "id": "817aee6f",
   "metadata": {},
   "outputs": [],
   "source": [
    "r2_score(y_test,predictedfinal)"
   ]
  },
  {
   "cell_type": "markdown",
   "id": "ede4bc2a",
   "metadata": {},
   "source": [
    "### Calculate the R2 score for Validation"
   ]
  },
  {
   "cell_type": "code",
   "execution_count": null,
   "id": "94f2ee66",
   "metadata": {
    "scrolled": true
   },
   "outputs": [],
   "source": [
    "r2_score(y_val, predict_testfinal)"
   ]
  },
  {
   "cell_type": "markdown",
   "id": "ae851f7c",
   "metadata": {},
   "source": [
    "### Calculate the Accuracy for train Dataset "
   ]
  },
  {
   "cell_type": "code",
   "execution_count": null,
   "id": "d66bec99",
   "metadata": {
    "scrolled": true
   },
   "outputs": [],
   "source": [
    "regressorfinal.score(X_train , y_train)"
   ]
  },
  {
   "cell_type": "markdown",
   "id": "5904f4b0",
   "metadata": {},
   "source": [
    "### Calculate the accuracy for validation"
   ]
  },
  {
   "cell_type": "code",
   "execution_count": null,
   "id": "037f09da",
   "metadata": {},
   "outputs": [],
   "source": [
    "regressorfinal.score(X_val , y_val)"
   ]
  },
  {
   "cell_type": "markdown",
   "id": "752dcff7",
   "metadata": {},
   "source": [
    "### Calculate the accuracy for test"
   ]
  },
  {
   "cell_type": "code",
   "execution_count": null,
   "id": "8971a50e",
   "metadata": {},
   "outputs": [],
   "source": [
    "regressorfinal.score(X_test , y_test)"
   ]
  },
  {
   "cell_type": "markdown",
   "id": "6a1b70ce",
   "metadata": {},
   "source": [
    "### Predict Charges For New Customer "
   ]
  },
  {
   "cell_type": "code",
   "execution_count": null,
   "id": "0d22f5db",
   "metadata": {},
   "outputs": [],
   "source": [
    "data = {'age' : 40,\n",
    "        'sex' : 1,\n",
    "        'bmi' : 40.30,\n",
    "        'steps' : 1278,\n",
    "        'children' : 4,\n",
    "        'smoker' : 1,\n",
    "        'region' : 2,\n",
    "       'blood pressure': 1 , \n",
    "       'diabetes' : 1,\n",
    "       'HistoryOfCancer' : 1 , \n",
    "       'MajorSurgeries' : 1}"
   ]
  },
  {
   "cell_type": "code",
   "execution_count": null,
   "id": "14e6c411",
   "metadata": {},
   "outputs": [],
   "source": [
    "df = pd.DataFrame(data,index=[0])\n",
    "df"
   ]
  },
  {
   "cell_type": "code",
   "execution_count": null,
   "id": "deb1abdd",
   "metadata": {},
   "outputs": [],
   "source": [
    "n_predict = regressor3.predict(df)\n",
    "print(\"New Customer's Medical Insurance Charges  : \",n_predict[0])"
   ]
  },
  {
   "cell_type": "markdown",
   "id": "34edf22d",
   "metadata": {},
   "source": [
    "From above we found that RandomForestRegressor is the best model for this dataset. "
   ]
  },
  {
   "cell_type": "markdown",
   "id": "3f1e2a87",
   "metadata": {},
   "source": [
    "###  Predict Charges For New Customer with different values"
   ]
  },
  {
   "cell_type": "code",
   "execution_count": null,
   "id": "e7e5c8dd",
   "metadata": {},
   "outputs": [],
   "source": [
    "data1 = {'age' : 40,\n",
    "        'sex' : 1,\n",
    "        'bmi' : 40.30,\n",
    "        'steps' : 1278,\n",
    "        'children' : 4,\n",
    "        'smoker' : 1,\n",
    "        'region' : 2,\n",
    "       'blood pressure': 0,\n",
    "         'diabetes' :0,\n",
    "         'HistoryOfCancer' : 0, \n",
    "       'MajorSurgeries' : 0}"
   ]
  },
  {
   "cell_type": "code",
   "execution_count": null,
   "id": "cea6834b",
   "metadata": {},
   "outputs": [],
   "source": [
    "df_1 = pd.DataFrame(data1,index=[0])\n",
    "df_1"
   ]
  },
  {
   "cell_type": "code",
   "execution_count": null,
   "id": "bd5ddf72",
   "metadata": {
    "scrolled": true
   },
   "outputs": [],
   "source": [
    "n_predict = regressor3.predict(df_1)\n",
    "print(\"New Customer's Medical Insurance Charges  : \",n_predict[0])"
   ]
  },
  {
   "cell_type": "code",
   "execution_count": null,
   "id": "c8c77692",
   "metadata": {},
   "outputs": [],
   "source": []
  },
  {
   "cell_type": "code",
   "execution_count": null,
   "id": "9e8a458c",
   "metadata": {},
   "outputs": [],
   "source": [
    "data1 = {'age' : 40,\n",
    "        'sex' : 1,\n",
    "        'bmi' : 40.30,\n",
    "        'steps' : 1278,\n",
    "        'children' : 4,\n",
    "        'smoker' : 0,\n",
    "        'region' : 2,\n",
    "       'blood pressure': 0,\n",
    "         'diabetes' :0,\n",
    "         'HistoryOfCancer' : 0, \n",
    "       'MajorSurgeries' : 0}"
   ]
  },
  {
   "cell_type": "code",
   "execution_count": null,
   "id": "f12ead3d",
   "metadata": {},
   "outputs": [],
   "source": [
    "df_2 = pd.DataFrame(data1,index=[0])\n",
    "df_2"
   ]
  },
  {
   "cell_type": "code",
   "execution_count": null,
   "id": "7a1b744f",
   "metadata": {},
   "outputs": [],
   "source": [
    "n_predict = regressor3.predict(df_2)\n",
    "print(\"New Customer's Medical Insurance Charges  : \",n_predict[0])"
   ]
  },
  {
   "cell_type": "code",
   "execution_count": null,
   "id": "c53d1f8e",
   "metadata": {},
   "outputs": [],
   "source": []
  },
  {
   "cell_type": "code",
   "execution_count": null,
   "id": "ce178c93",
   "metadata": {},
   "outputs": [],
   "source": [
    "data1 = {'age' : 40,\n",
    "        'sex' : 1,\n",
    "        'bmi' : 40.30,\n",
    "        'steps' : 1278,\n",
    "        'children' : 4,\n",
    "        'smoker' : 0,\n",
    "        'region' : 2,\n",
    "       'blood pressure': 1,\n",
    "         'diabetes' :1,\n",
    "         'HistoryOfCancer' : 1, \n",
    "       'MajorSurgeries' : 1}"
   ]
  },
  {
   "cell_type": "code",
   "execution_count": null,
   "id": "5fe8cdf8",
   "metadata": {},
   "outputs": [],
   "source": [
    "df_2 = pd.DataFrame(data1,index=[0])\n",
    "df_2"
   ]
  },
  {
   "cell_type": "code",
   "execution_count": null,
   "id": "acdd06a1",
   "metadata": {},
   "outputs": [],
   "source": []
  },
  {
   "cell_type": "code",
   "execution_count": null,
   "id": "3eb6b203",
   "metadata": {},
   "outputs": [],
   "source": []
  },
  {
   "cell_type": "code",
   "execution_count": null,
   "id": "8d3ebfbd",
   "metadata": {},
   "outputs": [],
   "source": []
  },
  {
   "cell_type": "code",
   "execution_count": null,
   "id": "1ad08a58",
   "metadata": {},
   "outputs": [],
   "source": []
  },
  {
   "cell_type": "markdown",
   "id": "8de4d455",
   "metadata": {},
   "source": [
    "we clearly see that in yhe second case , the New Customer's Medical Insurance Charges are LOW . because here the  'blood pressure' 'diabetes' 'HistoryOfCancer' 'MajorSurgeries'  are ZERO . so this person's Charges is low as compare to previous person's charges.(previes person's have all disease in '1'. )"
   ]
  },
  {
   "cell_type": "markdown",
   "id": "bd693550",
   "metadata": {},
   "source": [
    "## Let's train our model on the entire dataset. "
   ]
  },
  {
   "cell_type": "code",
   "execution_count": null,
   "id": "b1f36daf",
   "metadata": {},
   "outputs": [],
   "source": [
    "regressor3 = RandomForestRegressor()\n",
    "regressor3.fit(X,y)"
   ]
  },
  {
   "cell_type": "code",
   "execution_count": null,
   "id": "f4daa782",
   "metadata": {},
   "outputs": [],
   "source": [
    "import joblib"
   ]
  },
  {
   "cell_type": "code",
   "execution_count": null,
   "id": "6d639edb",
   "metadata": {},
   "outputs": [],
   "source": [
    "joblib.dump(regressor3 , 'moddel_joblib')"
   ]
  },
  {
   "cell_type": "code",
   "execution_count": null,
   "id": "1b9e01d2",
   "metadata": {},
   "outputs": [],
   "source": [
    "model = joblib.load('moddel_joblib')"
   ]
  },
  {
   "cell_type": "code",
   "execution_count": null,
   "id": "9951e844",
   "metadata": {},
   "outputs": [],
   "source": [
    "model.predict(df)"
   ]
  },
  {
   "cell_type": "code",
   "execution_count": null,
   "id": "96d41a40",
   "metadata": {},
   "outputs": [],
   "source": [
    "model.predict(df_1)"
   ]
  }
 ],
 "metadata": {
  "kernelspec": {
   "display_name": "Python 3 (ipykernel)",
   "language": "python",
   "name": "python3"
  },
  "language_info": {
   "codemirror_mode": {
    "name": "ipython",
    "version": 3
   },
   "file_extension": ".py",
   "mimetype": "text/x-python",
   "name": "python",
   "nbconvert_exporter": "python",
   "pygments_lexer": "ipython3",
   "version": "3.9.12"
  }
 },
 "nbformat": 4,
 "nbformat_minor": 5
}
